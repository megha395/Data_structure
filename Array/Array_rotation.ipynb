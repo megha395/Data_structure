{
 "cells": [
  {
   "cell_type": "code",
   "execution_count": 1,
   "metadata": {},
   "outputs": [
    {
     "name": "stdout",
     "output_type": "stream",
     "text": [
      "Initial Array is [1, 2, 3, 4, 5, 6, 7]\n",
      "Rotated Array is [5, 6, 7, 4, 1, 2, 3, 1]\n"
     ]
    }
   ],
   "source": [
    "# Initial Array\n",
    "nums = [1,2,3,4,5,6,7]\n",
    "print(f\"Initial Array is {nums}\")\n",
    "# Rotation by 3\n",
    "k = 3\n",
    "# print(nums[:k])\n",
    "\n",
    "# Method to rotate array by k\n",
    "temp_arr = nums[len(nums)-k:]\n",
    "temp_arr.insert(nums[k], k+1)\n",
    "# print(temp_arr)\n",
    "for i in range(len(nums)):\n",
    "    if i > k:\n",
    "        break\n",
    "    # print(\"i: \", i)\n",
    "    # print(\"nums[i+k]: \", nums[i+k])\n",
    "    # print(\"nums[i]: \", nums[i])\n",
    "    nums[i+k] = nums[i]\n",
    "    # print(nums)\n",
    "    \n",
    "nums[:k] = temp_arr\n",
    "print(f\"Rotated Array is {nums}\")"
   ]
  }
 ],
 "metadata": {
  "kernelspec": {
   "display_name": "Python 3",
   "language": "python",
   "name": "python3"
  },
  "language_info": {
   "codemirror_mode": {
    "name": "ipython",
    "version": 3
   },
   "file_extension": ".py",
   "mimetype": "text/x-python",
   "name": "python",
   "nbconvert_exporter": "python",
   "pygments_lexer": "ipython3",
   "version": "3.11.5"
  }
 },
 "nbformat": 4,
 "nbformat_minor": 2
}
