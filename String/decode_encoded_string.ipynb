{
 "cells": [
  {
   "cell_type": "code",
   "execution_count": null,
   "metadata": {},
   "outputs": [],
   "source": [
    "# Function to decode a string \n",
    "def decode(s):\n",
    "    stack = []\n",
    "    for i in range(len(s)):\n",
    "        if s[i] != ']':\n",
    "            stack.append(s[i])\n",
    "        else:\n",
    "            sub_str = \"\"\n",
    "            while stack[-1] != '[':\n",
    "                sub_str = stack.pop() + sub_str\n",
    "            stack.pop()\n",
    "            k = \"\"\n",
    "            while stack and stack[-1].isdigit():\n",
    "                k = stack.pop() + k\n",
    "            stack.append(int(k) * sub_str)\n",
    "    \n",
    "    return \"\".join(stack)\n"
   ]
  },
  {
   "cell_type": "code",
   "execution_count": null,
   "metadata": {},
   "outputs": [],
   "source": [
    "# Function Call\n",
    "decode(\"3[a2[bc]]\")"
   ]
  }
 ],
 "metadata": {
  "language_info": {
   "name": "python"
  }
 },
 "nbformat": 4,
 "nbformat_minor": 2
}
