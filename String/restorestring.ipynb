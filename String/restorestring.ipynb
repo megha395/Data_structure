{
 "cells": [
  {
   "cell_type": "code",
   "execution_count": 3,
   "metadata": {},
   "outputs": [
    {
     "name": "stdout",
     "output_type": "stream",
     "text": [
      "Initial string is codeleet and indices for restoration are [4, 5, 6, 7, 0, 2, 1, 3]\n",
      "String after Restoration is ['l', 'e', 'e', 't', 'c', 'o', 'd', 'e']\n"
     ]
    }
   ],
   "source": [
    "def restoreString(s, indices):\n",
    "    # print(max(indices))\n",
    "    shuffled_string = [0] * (max(indices)+1)\n",
    "    # print(shuffled_string)\n",
    "    for i in range(len(indices)):\n",
    "        shuffled_string[indices[i]] = s[i]\n",
    "        # print(shuffled_string)\n",
    "\n",
    "    return shuffled_string\n",
    "\n",
    "s = \"codeleet\"\n",
    "indices = [4,5,6,7,0,2,1,3]\n",
    "print(f\"Initial string is {s} and indices for restoration are {indices}\")\n",
    "print(f\"String after Restoration is {restoreString(s, indices)}\")"
   ]
  }
 ],
 "metadata": {
  "kernelspec": {
   "display_name": "Python 3",
   "language": "python",
   "name": "python3"
  },
  "language_info": {
   "codemirror_mode": {
    "name": "ipython",
    "version": 3
   },
   "file_extension": ".py",
   "mimetype": "text/x-python",
   "name": "python",
   "nbconvert_exporter": "python",
   "pygments_lexer": "ipython3",
   "version": "3.11.5"
  }
 },
 "nbformat": 4,
 "nbformat_minor": 2
}
